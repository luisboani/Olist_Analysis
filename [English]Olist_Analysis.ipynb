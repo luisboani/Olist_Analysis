{
 "cells": [
  {
   "cell_type": "markdown",
   "id": "4cb7f2be",
   "metadata": {},
   "source": [
    "# Olist E-Commerce Analysis "
   ]
  },
  {
   "cell_type": "markdown",
   "id": "8f898470",
   "metadata": {},
   "source": [
    "The Olist e-commerce Analysis is a notebook dedicated to analise and extract insights from a public dataset of a Brazilian e-commerce. The dataset has information of 100k orders from 2016 to 2018 made at multiple marketplaces in Brazil. The analysis are oriented in two main topics, sales and logistics. "
   ]
  },
  {
   "cell_type": "markdown",
   "id": "fa8e9b33",
   "metadata": {},
   "source": [
    "## Index\n",
    "1. **Dataset and data structure**\n",
    "2. **Importing libraries**\n",
    "3. **Importing data**\n",
    "4. **Exploring the dataset**  \n",
    "    4.1 Analysis by state   \n",
    "    4.2 Analysis by product category     \n",
    "5. **Temporal analysis**   \n",
    "    5.1 Monthly revenue   \n",
    "    5.2 Monthly top selling categories    \n",
    "6. **Logistics**    \n",
    "    6.1 Relation between delivery time and revenue    \n",
    "    6.2 Delivery performance   \n",
    "    6.2 Delivery performance by state      \n",
    "    6.3 Delivery performance by product category     \n",
    "    6.5 Steps of the delivery process   \n",
    "    "
   ]
  },
  {
   "cell_type": "markdown",
   "id": "5f930c6d",
   "metadata": {},
   "source": [
    "***"
   ]
  },
  {
   "cell_type": "markdown",
   "id": "626b8d5c",
   "metadata": {},
   "source": [
    "## 1. Dataset and data structure"
   ]
  },
  {
   "cell_type": "markdown",
   "id": "91970f16",
   "metadata": {},
   "source": [
    "We utilized the [Brazilian E-Commerce Public Dataset by Olist](https://www.kaggle.com/datasets/olistbr/brazilian-ecommerce) for the analysis. The dataset has information of 100k orders from 2016 and 2018 with orders made at [Olist e-commerce](https://olist.com), the largest department store in Brazil. The data is structured in 8 tables as shown below. "
   ]
  },
  {
   "cell_type": "markdown",
   "id": "8511a54d",
   "metadata": {},
   "source": [
    "#### Data structure  \n",
    "Tables\n",
    "* `customers`\n",
    "* `geolocation`\n",
    "* `order_items`\n",
    "* `order_payments`\n",
    "* `order_reviews`\n",
    "* `orders`\n",
    "* `products`\n",
    "* `sellers`\n",
    "* `product_category_name_translation`"
   ]
  },
  {
   "cell_type": "markdown",
   "id": "29fc20b2",
   "metadata": {},
   "source": [
    "#### The tables connections are shown in this schema:"
   ]
  },
  {
   "cell_type": "markdown",
   "id": "1ce62e8b",
   "metadata": {},
   "source": [
    "<img src=\"olist_db.png\" alt=\"Drawing\" align=\"left\" style=\"width: 600px;\"/>"
   ]
  },
  {
   "cell_type": "markdown",
   "id": "c2e1881e",
   "metadata": {},
   "source": [
    "***"
   ]
  },
  {
   "cell_type": "markdown",
   "id": "a74d82df",
   "metadata": {},
   "source": [
    "## 2. Importing libraries"
   ]
  },
  {
   "cell_type": "code",
   "execution_count": 1,
   "id": "e798bb07",
   "metadata": {},
   "outputs": [],
   "source": [
    "import matplotlib.pyplot as plt\n",
    "import numpy as np\n",
    "import pandas as pd\n",
    "import matplotlib.ticker as ticker\n",
    "import textwrap as tw "
   ]
  },
  {
   "cell_type": "markdown",
   "id": "de13f04b",
   "metadata": {},
   "source": [
    "***"
   ]
  },
  {
   "cell_type": "markdown",
   "id": "15bb29fb",
   "metadata": {},
   "source": [
    "## 3. Importing data"
   ]
  },
  {
   "cell_type": "code",
   "execution_count": 2,
   "id": "f45eeaf0",
   "metadata": {},
   "outputs": [],
   "source": [
    "customers = pd.read_csv('./data/olist_customers_dataset.csv')\n",
    "geolocation = pd.read_csv('./data/olist_geolocation_dataset.csv')\n",
    "order_items = pd.read_csv('./data/olist_order_items_dataset.csv')\n",
    "order_payments = pd.read_csv('./data/olist_order_payments_dataset.csv')\n",
    "order_reviews = pd.read_csv('./data/olist_order_reviews_dataset.csv')\n",
    "orders = pd.read_csv('./data/olist_orders_dataset.csv')\n",
    "products = pd.read_csv('./data/olist_products_dataset.csv')\n",
    "sellers = pd.read_csv('./data/olist_sellers_dataset.csv')\n",
    "product_category_translation = pd.read_csv('./data/product_category_name_translation.csv')"
   ]
  },
  {
   "cell_type": "markdown",
   "id": "34f48677",
   "metadata": {},
   "source": [
    "***"
   ]
  },
  {
   "cell_type": "markdown",
   "id": "4e620c0a",
   "metadata": {},
   "source": [
    "## 4. Exploring the dataset"
   ]
  },
  {
   "cell_type": "markdown",
   "id": "d2367311",
   "metadata": {},
   "source": [
    "In this starting phase, we will try to answer some basic questions:\n",
    "- Is there any relation between the Average Ticket Price and Revenue?\n",
    "- Is the revenue distributed evenly across the states?\n",
    "- How does de Average Ticket Price (ATP) change from state to state?\n",
    "- Which are the top selling product categories?\n",
    "  "
   ]
  },
  {
   "cell_type": "markdown",
   "id": "ec0c357c",
   "metadata": {},
   "source": [
    "### 4.1 Analysis by state"
   ]
  },
  {
   "cell_type": "code",
   "execution_count": 3,
   "id": "3b474589",
   "metadata": {},
   "outputs": [
    {
     "data": {
      "text/html": [
       "<div>\n",
       "<style scoped>\n",
       "    .dataframe tbody tr th:only-of-type {\n",
       "        vertical-align: middle;\n",
       "    }\n",
       "\n",
       "    .dataframe tbody tr th {\n",
       "        vertical-align: top;\n",
       "    }\n",
       "\n",
       "    .dataframe thead th {\n",
       "        text-align: right;\n",
       "    }\n",
       "</style>\n",
       "<table border=\"1\" class=\"dataframe\">\n",
       "  <thead>\n",
       "    <tr style=\"text-align: right;\">\n",
       "      <th></th>\n",
       "      <th>price</th>\n",
       "      <th>total_orders</th>\n",
       "      <th>atp</th>\n",
       "      <th>%revenue</th>\n",
       "    </tr>\n",
       "    <tr>\n",
       "      <th>customer_state</th>\n",
       "      <th></th>\n",
       "      <th></th>\n",
       "      <th></th>\n",
       "      <th></th>\n",
       "    </tr>\n",
       "  </thead>\n",
       "  <tbody>\n",
       "    <tr>\n",
       "      <th>SP</th>\n",
       "      <td>5202955.05</td>\n",
       "      <td>47449</td>\n",
       "      <td>109.653629</td>\n",
       "      <td>38.280543</td>\n",
       "    </tr>\n",
       "    <tr>\n",
       "      <th>RJ</th>\n",
       "      <td>1824092.67</td>\n",
       "      <td>14579</td>\n",
       "      <td>125.117818</td>\n",
       "      <td>13.420692</td>\n",
       "    </tr>\n",
       "    <tr>\n",
       "      <th>MG</th>\n",
       "      <td>1585308.03</td>\n",
       "      <td>13129</td>\n",
       "      <td>120.748574</td>\n",
       "      <td>11.663843</td>\n",
       "    </tr>\n",
       "    <tr>\n",
       "      <th>RS</th>\n",
       "      <td>750304.02</td>\n",
       "      <td>6235</td>\n",
       "      <td>120.337453</td>\n",
       "      <td>5.520333</td>\n",
       "    </tr>\n",
       "    <tr>\n",
       "      <th>PR</th>\n",
       "      <td>683083.76</td>\n",
       "      <td>5740</td>\n",
       "      <td>119.004139</td>\n",
       "      <td>5.025763</td>\n",
       "    </tr>\n",
       "  </tbody>\n",
       "</table>\n",
       "</div>"
      ],
      "text/plain": [
       "                     price  total_orders         atp   %revenue\n",
       "customer_state                                                 \n",
       "SP              5202955.05         47449  109.653629  38.280543\n",
       "RJ              1824092.67         14579  125.117818  13.420692\n",
       "MG              1585308.03         13129  120.748574  11.663843\n",
       "RS               750304.02          6235  120.337453   5.520333\n",
       "PR               683083.76          5740  119.004139   5.025763"
      ]
     },
     "execution_count": 3,
     "metadata": {},
     "output_type": "execute_result"
    }
   ],
   "source": [
    "# Joining tables\n",
    "df = customers.merge(orders, on=['customer_id'])\n",
    "df = df[['order_id', 'customer_state', 'customer_city']]\n",
    "df = df.merge(order_items, on=['order_id'])\n",
    "df = df[['customer_state', 'price']]\n",
    "\n",
    "# Counting orders\n",
    "df['total_orders'] = 1\n",
    "\n",
    "# Agrupando as colunas por estado\n",
    "df = df.groupby('customer_state').sum().sort_values(by=['price'],ascending=False)\n",
    "\n",
    "# Adding a column to calculate the average ticket price (atp)\n",
    "df['atp'] = df['price']/df['total_orders']\n",
    "\n",
    "df['%revenue'] = df['price']*100/df['price'].sum()\n",
    "\n",
    "sales_state = df\n",
    "sales_state.head()"
   ]
  },
  {
   "cell_type": "markdown",
   "id": "6534b457",
   "metadata": {},
   "source": [
    "note: in this notebook we are calculating de Average Ticket Price of each order. "
   ]
  },
  {
   "cell_type": "code",
   "execution_count": 4,
   "id": "92518835",
   "metadata": {},
   "outputs": [
    {
     "data": {
      "text/html": [
       "<div>\n",
       "<style scoped>\n",
       "    .dataframe tbody tr th:only-of-type {\n",
       "        vertical-align: middle;\n",
       "    }\n",
       "\n",
       "    .dataframe tbody tr th {\n",
       "        vertical-align: top;\n",
       "    }\n",
       "\n",
       "    .dataframe thead th {\n",
       "        text-align: right;\n",
       "    }\n",
       "</style>\n",
       "<table border=\"1\" class=\"dataframe\">\n",
       "  <thead>\n",
       "    <tr style=\"text-align: right;\">\n",
       "      <th></th>\n",
       "      <th>price</th>\n",
       "      <th>total_orders</th>\n",
       "      <th>atp</th>\n",
       "      <th>%revenue</th>\n",
       "    </tr>\n",
       "  </thead>\n",
       "  <tbody>\n",
       "    <tr>\n",
       "      <th>count</th>\n",
       "      <td>27.00</td>\n",
       "      <td>27.00</td>\n",
       "      <td>27.00</td>\n",
       "      <td>27.00</td>\n",
       "    </tr>\n",
       "    <tr>\n",
       "      <th>mean</th>\n",
       "      <td>503394.21</td>\n",
       "      <td>4172.22</td>\n",
       "      <td>145.17</td>\n",
       "      <td>3.70</td>\n",
       "    </tr>\n",
       "    <tr>\n",
       "      <th>std</th>\n",
       "      <td>1040224.19</td>\n",
       "      <td>9399.10</td>\n",
       "      <td>21.14</td>\n",
       "      <td>7.65</td>\n",
       "    </tr>\n",
       "    <tr>\n",
       "      <th>min</th>\n",
       "      <td>7829.43</td>\n",
       "      <td>52.00</td>\n",
       "      <td>109.65</td>\n",
       "      <td>0.06</td>\n",
       "    </tr>\n",
       "    <tr>\n",
       "      <th>25%</th>\n",
       "      <td>69617.83</td>\n",
       "      <td>414.50</td>\n",
       "      <td>125.44</td>\n",
       "      <td>0.51</td>\n",
       "    </tr>\n",
       "    <tr>\n",
       "      <th>50%</th>\n",
       "      <td>156453.53</td>\n",
       "      <td>1055.00</td>\n",
       "      <td>145.51</td>\n",
       "      <td>1.15</td>\n",
       "    </tr>\n",
       "    <tr>\n",
       "      <th>75%</th>\n",
       "      <td>406976.96</td>\n",
       "      <td>3102.50</td>\n",
       "      <td>158.94</td>\n",
       "      <td>2.99</td>\n",
       "    </tr>\n",
       "    <tr>\n",
       "      <th>max</th>\n",
       "      <td>5202955.05</td>\n",
       "      <td>47449.00</td>\n",
       "      <td>191.48</td>\n",
       "      <td>38.28</td>\n",
       "    </tr>\n",
       "  </tbody>\n",
       "</table>\n",
       "</div>"
      ],
      "text/plain": [
       "           price  total_orders    atp  %revenue\n",
       "count      27.00         27.00  27.00     27.00\n",
       "mean   503394.21       4172.22 145.17      3.70\n",
       "std   1040224.19       9399.10  21.14      7.65\n",
       "min      7829.43         52.00 109.65      0.06\n",
       "25%     69617.83        414.50 125.44      0.51\n",
       "50%    156453.53       1055.00 145.51      1.15\n",
       "75%    406976.96       3102.50 158.94      2.99\n",
       "max   5202955.05      47449.00 191.48     38.28"
      ]
     },
     "execution_count": 4,
     "metadata": {},
     "output_type": "execute_result"
    }
   ],
   "source": [
    "pd.set_option('display.float_format', lambda x: '%.2f' % x)\n",
    "df.describe()"
   ]
  },
  {
   "cell_type": "markdown",
   "id": "ea29636f",
   "metadata": {},
   "source": [
    "When we compare the inicial rows in the `head()` table with the overview shown in the `describe()` table, we can make some points:\n",
    "- The mean is very different from the median (50%) which indicates that we have very different values in the dataset\n",
    "- We can confirm this by looking to the max and min value. \n",
    "- An interesting observation is that the atp (Average Ticket Price) is lower where the revenue is higher\n",
    "\n",
    "Let's plot some graphs to see this in detail   \n",
    "   "
   ]
  },
  {
   "cell_type": "markdown",
   "id": "e39a3b19",
   "metadata": {},
   "source": [
    "#### Plotting graphs"
   ]
  },
  {
   "cell_type": "code",
   "execution_count": 8,
   "id": "59ed124d",
   "metadata": {},
   "outputs": [
    {
     "data": {
      "image/png": "[encoded data removed]",
      "text/plain": [
       "<Figure size 864x504 with 2 Axes>"
      ]
     },
     "metadata": {
      "needs_background": "light"
     },
     "output_type": "display_data"
    }
   ],
   "source": [
    "plt.figure(figsize=(12,7))\n",
    "plt.suptitle(f\"Revenue vs. Average Ticket Price by state\", y=1.05, fontsize=16)\n",
    "\n",
    "plt.subplot(211)\n",
    "plt.bar(sales_state.index, sales_state['price'])\n",
    "plt.title('Revenue in reais (R$)')\n",
    "plt.yticks([0,1e+6,2e+6,3e+6,4e+6,5e+6], labels=['0', '1M', '2M', '3M', '4M', '5M'])\n",
    "plt.box(False)\n",
    "\n",
    "plt.subplot(212)\n",
    "plt.bar(sales_state.index, sales_state['atp'])\n",
    "plt.title('Average Ticket Price in reais (R$)')\n",
    "plt.ylim(100,200)\n",
    "plt.yticks([100,120,140,160,180,200])\n",
    "plt.hlines(y = 145,xmin=0, xmax='RR', colors='red', linestyle='dashed', linewidth=2)\n",
    "\n",
    "footnote = f\"The red line represents the median of the Average Ticket Price\"\n",
    "fig_txt = tw.fill(tw.dedent(footnote.rstrip()), width=150)\n",
    "plt.figtext(0.5, -0.07, fig_txt, horizontalalignment='center', fontsize=12, multialignment=\"left\")\n",
    "\n",
    "plt.tight_layout()\n",
    "plt.box(False)\n",
    "plt.show()"
   ]
  },
  {
   "cell_type": "markdown",
   "id": "524d4e0b",
   "metadata": {},
   "source": [
    "#### Conclusions\n",
    "- More than 60% of the revenue is concentrated in the Southeast region of Brazil (SP, RG, MG)\n",
    "- Sao Paulo is an outlier\n",
    "- In the top revenue states, the Average Ticket Price tends to be lower\n"
   ]
  },
  {
   "cell_type": "markdown",
   "id": "dc7213be",
   "metadata": {},
   "source": [
    "*** "
   ]
  },
  {
   "cell_type": "markdown",
   "id": "7d2fef0c",
   "metadata": {},
   "source": [
    "### 4.2 Analysis by product category"
   ]
  },
  {
   "cell_type": "markdown",
   "id": "5e3da617",
   "metadata": {},
   "source": [
    "#### Preparing the data"
   ]
  },
  {
   "cell_type": "code",
   "execution_count": 5,
   "id": "f5e54a3f",
   "metadata": {},
   "outputs": [
    {
     "data": {
      "text/html": [
       "<div>\n",
       "<style scoped>\n",
       "    .dataframe tbody tr th:only-of-type {\n",
       "        vertical-align: middle;\n",
       "    }\n",
       "\n",
       "    .dataframe tbody tr th {\n",
       "        vertical-align: top;\n",
       "    }\n",
       "\n",
       "    .dataframe thead th {\n",
       "        text-align: right;\n",
       "    }\n",
       "</style>\n",
       "<table border=\"1\" class=\"dataframe\">\n",
       "  <thead>\n",
       "    <tr style=\"text-align: right;\">\n",
       "      <th></th>\n",
       "      <th>price</th>\n",
       "      <th>total_orders</th>\n",
       "      <th>ticket_medio</th>\n",
       "      <th>%revenue</th>\n",
       "    </tr>\n",
       "    <tr>\n",
       "      <th>product_category_name_english</th>\n",
       "      <th></th>\n",
       "      <th></th>\n",
       "      <th></th>\n",
       "      <th></th>\n",
       "    </tr>\n",
       "  </thead>\n",
       "  <tbody>\n",
       "    <tr>\n",
       "      <th>health_beauty</th>\n",
       "      <td>1258681.34</td>\n",
       "      <td>9670</td>\n",
       "      <td>130.163531</td>\n",
       "      <td>9.388524</td>\n",
       "    </tr>\n",
       "    <tr>\n",
       "      <th>watches_gifts</th>\n",
       "      <td>1205005.68</td>\n",
       "      <td>5991</td>\n",
       "      <td>201.135984</td>\n",
       "      <td>8.988157</td>\n",
       "    </tr>\n",
       "    <tr>\n",
       "      <th>bed_bath_table</th>\n",
       "      <td>1036988.68</td>\n",
       "      <td>11115</td>\n",
       "      <td>93.296327</td>\n",
       "      <td>7.734915</td>\n",
       "    </tr>\n",
       "    <tr>\n",
       "      <th>sports_leisure</th>\n",
       "      <td>988048.97</td>\n",
       "      <td>8641</td>\n",
       "      <td>114.344285</td>\n",
       "      <td>7.369873</td>\n",
       "    </tr>\n",
       "    <tr>\n",
       "      <th>computers_accessories</th>\n",
       "      <td>911954.32</td>\n",
       "      <td>7827</td>\n",
       "      <td>116.513903</td>\n",
       "      <td>6.802282</td>\n",
       "    </tr>\n",
       "  </tbody>\n",
       "</table>\n",
       "</div>"
      ],
      "text/plain": [
       "                                    price  total_orders  ticket_medio  \\\n",
       "product_category_name_english                                           \n",
       "health_beauty                  1258681.34          9670    130.163531   \n",
       "watches_gifts                  1205005.68          5991    201.135984   \n",
       "bed_bath_table                 1036988.68         11115     93.296327   \n",
       "sports_leisure                  988048.97          8641    114.344285   \n",
       "computers_accessories           911954.32          7827    116.513903   \n",
       "\n",
       "                               %revenue  \n",
       "product_category_name_english            \n",
       "health_beauty                  9.388524  \n",
       "watches_gifts                  8.988157  \n",
       "bed_bath_table                 7.734915  \n",
       "sports_leisure                 7.369873  \n",
       "computers_accessories          6.802282  "
      ]
     },
     "execution_count": 5,
     "metadata": {},
     "output_type": "execute_result"
    }
   ],
   "source": [
    "# order_items -- (product_id) -- products\n",
    "df = order_items.merge(products, on=['product_id'])[['product_category_name', 'price']]\n",
    "df = df.merge(product_category_translation, on=['product_category_name'])[['product_category_name_english', 'price']]\n",
    "\n",
    "df['total_orders'] = 1\n",
    "df = df.groupby('product_category_name_english').sum().sort_values(by=['price'],ascending=False)\n",
    "\n",
    "# Adding a column to calculate the average ticket price (atp)\n",
    "df['ticket_medio'] = df['price']/df['total_orders']\n",
    "\n",
    "df['%revenue'] = df['price']*100/df['price'].sum()\n",
    "\n",
    "category_sum = df\n",
    "category_sum.head()"
   ]
  },
  {
   "cell_type": "code",
   "execution_count": 6,
   "id": "ff7d7bd1",
   "metadata": {},
   "outputs": [
    {
     "data": {
      "image/png": "[encoded data removed]",
      "text/plain": [
       "<Figure size 720x288 with 1 Axes>"
      ]
     },
     "metadata": {
      "needs_background": "light"
     },
     "output_type": "display_data"
    }
   ],
   "source": [
    "# filtering the top 10 categories in revenue\n",
    "category_sum = category_sum[:10]\n",
    "values = category_sum['%revenue']\n",
    "\n",
    "# Ordering by revenue\n",
    "df = pd.DataFrame({'categories' : category_sum.index, 'values' : values,})\n",
    "df_sorted = df.sort_values('values',ascending=True)\n",
    "\n",
    "plt.figure(figsize=(10,4))\n",
    "plt.suptitle(f'Top Selling Categories', y=1.05, fontsize=16)\n",
    "footnote = f\"Percentage of total revenue\"\n",
    "\n",
    "plt.barh('categories', 'values', data=df_sorted)\n",
    "plt.xticks([0, 2, 4, 6, 8, 10], labels=['0', '2%', '4%', '6%', '8%', '10%'])\n",
    "\n",
    "fig_txt = tw.fill(tw.dedent(footnote.rstrip()), width=150)\n",
    "plt.figtext(0.5, -0.07, fig_txt, horizontalalignment='center', fontsize=12, multialignment=\"left\")\n",
    "\n",
    "plt.box(False)\n",
    "plt.tight_layout()\n",
    "plt.show()"
   ]
  },
  {
   "cell_type": "markdown",
   "id": "e68fdb06",
   "metadata": {},
   "source": [
    "***"
   ]
  },
  {
   "cell_type": "markdown",
   "id": "7f287ace",
   "metadata": {},
   "source": [
    "## 5. Temporal Analysis"
   ]
  },
  {
   "cell_type": "markdown",
   "id": "3134dfb7",
   "metadata": {},
   "source": [
    "#### Preparing the data"
   ]
  },
  {
   "cell_type": "code",
   "execution_count": 8,
   "id": "be1c50ed",
   "metadata": {},
   "outputs": [],
   "source": [
    "# customers -- (customer_id) -- orders\n",
    "df = customers.merge(orders, on=['customer_id'])\n",
    "df = df[['order_id', 'customer_state', 'order_approved_at']]\n",
    "\n",
    "# orders -- (order_id) -- order_items\n",
    "df = df.merge(order_items, on=['order_id'])\n",
    "df = df[['customer_state', 'order_approved_at','price', 'product_id']]\n",
    "\n",
    "# order_items -- (product_id) -- products\n",
    "df = df.merge(products, on=['product_id'])\n",
    "df = df[['customer_state', 'price', 'order_approved_at', 'product_category_name']]\n",
    "\n",
    "df = df.merge(product_category_translation, on=['product_category_name'])\n",
    "df = df[['customer_state', 'price', 'order_approved_at','product_category_name_english']]"
   ]
  },
  {
   "cell_type": "markdown",
   "id": "dddd7044",
   "metadata": {},
   "source": [
    "#### Adding a some date columns"
   ]
  },
  {
   "cell_type": "code",
   "execution_count": 9,
   "id": "53cfd274",
   "metadata": {},
   "outputs": [],
   "source": [
    "df['date'] = pd.to_datetime(df['order_approved_at'], format=\"%Y-%m-%d\").dt.strftime('%Y/%m')\n",
    "df['day'] = pd.to_datetime(df['order_approved_at'], format=\"%Y-%m-%d\").dt.strftime('%d')\n",
    "\n",
    "sales_df = df"
   ]
  },
  {
   "cell_type": "markdown",
   "id": "124ddaf1",
   "metadata": {},
   "source": [
    "***"
   ]
  },
  {
   "cell_type": "markdown",
   "id": "25730bf8",
   "metadata": {},
   "source": [
    "### 5.1 Monthly Revenue"
   ]
  },
  {
   "cell_type": "code",
   "execution_count": 10,
   "id": "dc32c9f8",
   "metadata": {},
   "outputs": [],
   "source": [
    "df = sales_df\n",
    "df = df.groupby('date').sum()\n",
    "\n",
    "# dropping some data\n",
    "df = df.drop(df.index[0:3])\n",
    "df = df.drop(df.tail(1).index)"
   ]
  },
  {
   "cell_type": "code",
   "execution_count": 11,
   "id": "7cb5e83e",
   "metadata": {},
   "outputs": [
    {
     "data": {
      "image/png": "[encoded data removed]",
      "text/plain": [
       "<Figure size 864x360 with 1 Axes>"
      ]
     },
     "metadata": {
      "needs_background": "light"
     },
     "output_type": "display_data"
    }
   ],
   "source": [
    "plt.figure(figsize=(12,5))\n",
    "plt.suptitle(f'Revenue in R$ (Y) vs. time (X)', y=1.05, fontsize=16)\n",
    "\n",
    "plt.plot(df.index, df.price, linewidth=2)\n",
    "plt.xticks(df.index[::3].tolist())\n",
    "plt.yticks([0, 2e+5, 4e+5, 6e+5, 8e+5, 10e+5, 12e+5], labels=['0','200k','400k','600k','800k', '1M', '1,2M'])\n",
    "\n",
    "plt.vlines(x = '2017/10', ymin=0, ymax=1200000, colors='red', linestyle='dashed', linewidth=1)\n",
    "plt.vlines(x = '2017/12', ymin=0, ymax=1200000, colors='red', linestyle='dashed', linewidth=1)\n",
    "\n",
    "plt.box(False)\n",
    "plt.tight_layout()\n",
    "plt.show()"
   ]
  },
  {
   "cell_type": "markdown",
   "id": "c09c7aaa",
   "metadata": {},
   "source": [
    "From 2017 to 2018 we had some fluctuations in sales, the most expressive occurred in November 2017.    \n",
    "Now we're going to analise this month in detail."
   ]
  },
  {
   "cell_type": "markdown",
   "id": "7839b9c5",
   "metadata": {},
   "source": [
    "#### Detailing November 2017"
   ]
  },
  {
   "cell_type": "code",
   "execution_count": 12,
   "id": "4bb01dbc",
   "metadata": {},
   "outputs": [],
   "source": [
    "df = sales_df\n",
    "\n",
    "df = df.loc[df['date'] == '2017/11']\n",
    "df = df.groupby('day').sum()"
   ]
  },
  {
   "cell_type": "code",
   "execution_count": 13,
   "id": "45f6ad01",
   "metadata": {
    "scrolled": true
   },
   "outputs": [
    {
     "data": {
      "image/png": "[encoded data removed]",
      "text/plain": [
       "<Figure size 864x288 with 1 Axes>"
      ]
     },
     "metadata": {
      "needs_background": "light"
     },
     "output_type": "display_data"
    }
   ],
   "source": [
    "plt.figure(figsize=(12,4))\n",
    "plt.suptitle(f'Revenue in November 2017 in reais (R$) ', y=1.05, fontsize=16)\n",
    "\n",
    "plt.plot(df.index, df.price, linewidth=2)\n",
    "plt.yticks([0, 2e+4, 4e+4, 6e+4, 8e+4, 10e+4, 12e+4], labels=['0','20k','40k','60k','80k', '100k', '120k'])\n",
    "\n",
    "plt.vlines(x = '24', ymin=0, ymax=120000, colors='red', linestyle='dashed', linewidth=1)\n",
    "\n",
    "plt.box(False)\n",
    "plt.tight_layout()\n",
    "plt.show()"
   ]
  },
  {
   "cell_type": "markdown",
   "id": "966de2b7",
   "metadata": {},
   "source": [
    "Analising November 2017 in detail we can see a huge peak in November 24th an 25th. Searching for external events in this date we found out that this was the date of **Black Friday**.\n"
   ]
  },
  {
   "cell_type": "markdown",
   "id": "e8cd2c48",
   "metadata": {},
   "source": [
    "***"
   ]
  },
  {
   "cell_type": "markdown",
   "id": "0e8d0323",
   "metadata": {},
   "source": [
    "## 5.2 Monthly top selling categories   "
   ]
  },
  {
   "cell_type": "markdown",
   "id": "593f2551",
   "metadata": {},
   "source": [
    "#### Preparing the data"
   ]
  },
  {
   "cell_type": "code",
   "execution_count": 14,
   "id": "66c594a3",
   "metadata": {
    "scrolled": true
   },
   "outputs": [
    {
     "data": {
      "text/html": [
       "<div>\n",
       "<style scoped>\n",
       "    .dataframe tbody tr th:only-of-type {\n",
       "        vertical-align: middle;\n",
       "    }\n",
       "\n",
       "    .dataframe tbody tr th {\n",
       "        vertical-align: top;\n",
       "    }\n",
       "\n",
       "    .dataframe thead th {\n",
       "        text-align: right;\n",
       "    }\n",
       "</style>\n",
       "<table border=\"1\" class=\"dataframe\">\n",
       "  <thead>\n",
       "    <tr style=\"text-align: right;\">\n",
       "      <th>product_category_name_english</th>\n",
       "      <th>agro_industry_and_commerce</th>\n",
       "      <th>air_conditioning</th>\n",
       "      <th>art</th>\n",
       "      <th>arts_and_craftmanship</th>\n",
       "      <th>audio</th>\n",
       "      <th>auto</th>\n",
       "      <th>baby</th>\n",
       "      <th>bed_bath_table</th>\n",
       "      <th>books_general_interest</th>\n",
       "      <th>books_imported</th>\n",
       "      <th>...</th>\n",
       "      <th>security_and_services</th>\n",
       "      <th>signaling_and_security</th>\n",
       "      <th>small_appliances</th>\n",
       "      <th>small_appliances_home_oven_and_coffee</th>\n",
       "      <th>sports_leisure</th>\n",
       "      <th>stationery</th>\n",
       "      <th>tablets_printing_image</th>\n",
       "      <th>telephony</th>\n",
       "      <th>toys</th>\n",
       "      <th>watches_gifts</th>\n",
       "    </tr>\n",
       "  </thead>\n",
       "  <tbody>\n",
       "    <tr>\n",
       "      <th>count</th>\n",
       "      <td>19.000000</td>\n",
       "      <td>20.000000</td>\n",
       "      <td>17.000000</td>\n",
       "      <td>6.000000</td>\n",
       "      <td>19.000000</td>\n",
       "      <td>20.000000</td>\n",
       "      <td>20.000000</td>\n",
       "      <td>20.00000</td>\n",
       "      <td>20.000000</td>\n",
       "      <td>15.000000</td>\n",
       "      <td>...</td>\n",
       "      <td>2.000000</td>\n",
       "      <td>18.000000</td>\n",
       "      <td>20.000000</td>\n",
       "      <td>11.000000</td>\n",
       "      <td>20.000000</td>\n",
       "      <td>20.000000</td>\n",
       "      <td>17.000000</td>\n",
       "      <td>20.0000</td>\n",
       "      <td>20.000000</td>\n",
       "      <td>20.000000</td>\n",
       "    </tr>\n",
       "    <tr>\n",
       "      <th>mean</th>\n",
       "      <td>3817.393158</td>\n",
       "      <td>2665.893500</td>\n",
       "      <td>1423.684706</td>\n",
       "      <td>302.335000</td>\n",
       "      <td>2659.553158</td>\n",
       "      <td>29544.343000</td>\n",
       "      <td>20506.736500</td>\n",
       "      <td>51818.78500</td>\n",
       "      <td>2336.869000</td>\n",
       "      <td>309.323333</td>\n",
       "      <td>...</td>\n",
       "      <td>141.645000</td>\n",
       "      <td>1194.957222</td>\n",
       "      <td>9516.934000</td>\n",
       "      <td>4313.246364</td>\n",
       "      <td>49232.317500</td>\n",
       "      <td>11547.161500</td>\n",
       "      <td>442.847647</td>\n",
       "      <td>16150.4975</td>\n",
       "      <td>23974.075500</td>\n",
       "      <td>60082.272000</td>\n",
       "    </tr>\n",
       "    <tr>\n",
       "      <th>std</th>\n",
       "      <td>3500.605051</td>\n",
       "      <td>1217.198962</td>\n",
       "      <td>1745.692363</td>\n",
       "      <td>379.175832</td>\n",
       "      <td>2384.015144</td>\n",
       "      <td>14212.534332</td>\n",
       "      <td>12863.337707</td>\n",
       "      <td>22235.42273</td>\n",
       "      <td>1633.350693</td>\n",
       "      <td>199.153693</td>\n",
       "      <td>...</td>\n",
       "      <td>58.894924</td>\n",
       "      <td>1452.424074</td>\n",
       "      <td>4994.634596</td>\n",
       "      <td>4554.416985</td>\n",
       "      <td>21773.224112</td>\n",
       "      <td>9223.390185</td>\n",
       "      <td>435.165085</td>\n",
       "      <td>9043.2335</td>\n",
       "      <td>14636.240836</td>\n",
       "      <td>32929.231947</td>\n",
       "    </tr>\n",
       "    <tr>\n",
       "      <th>min</th>\n",
       "      <td>65.970000</td>\n",
       "      <td>663.700000</td>\n",
       "      <td>75.000000</td>\n",
       "      <td>15.990000</td>\n",
       "      <td>163.800000</td>\n",
       "      <td>5126.430000</td>\n",
       "      <td>3363.470000</td>\n",
       "      <td>3780.36000</td>\n",
       "      <td>234.890000</td>\n",
       "      <td>19.990000</td>\n",
       "      <td>...</td>\n",
       "      <td>100.000000</td>\n",
       "      <td>75.000000</td>\n",
       "      <td>1461.790000</td>\n",
       "      <td>71.900000</td>\n",
       "      <td>9602.640000</td>\n",
       "      <td>1561.990000</td>\n",
       "      <td>49.900000</td>\n",
       "      <td>2945.8600</td>\n",
       "      <td>4747.100000</td>\n",
       "      <td>8086.520000</td>\n",
       "    </tr>\n",
       "    <tr>\n",
       "      <th>25%</th>\n",
       "      <td>1285.000000</td>\n",
       "      <td>1996.122500</td>\n",
       "      <td>349.050000</td>\n",
       "      <td>38.942500</td>\n",
       "      <td>1092.735000</td>\n",
       "      <td>15199.655000</td>\n",
       "      <td>9379.565000</td>\n",
       "      <td>34792.14250</td>\n",
       "      <td>1188.160000</td>\n",
       "      <td>165.000000</td>\n",
       "      <td>...</td>\n",
       "      <td>120.822500</td>\n",
       "      <td>461.347500</td>\n",
       "      <td>6001.655000</td>\n",
       "      <td>505.490000</td>\n",
       "      <td>36016.445000</td>\n",
       "      <td>5941.165000</td>\n",
       "      <td>161.800000</td>\n",
       "      <td>8811.2275</td>\n",
       "      <td>15534.827500</td>\n",
       "      <td>34277.102500</td>\n",
       "    </tr>\n",
       "    <tr>\n",
       "      <th>50%</th>\n",
       "      <td>3376.650000</td>\n",
       "      <td>2649.995000</td>\n",
       "      <td>461.500000</td>\n",
       "      <td>109.850000</td>\n",
       "      <td>2069.400000</td>\n",
       "      <td>32595.810000</td>\n",
       "      <td>21088.230000</td>\n",
       "      <td>56320.26500</td>\n",
       "      <td>1926.365000</td>\n",
       "      <td>317.990000</td>\n",
       "      <td>...</td>\n",
       "      <td>141.645000</td>\n",
       "      <td>729.895000</td>\n",
       "      <td>9173.030000</td>\n",
       "      <td>3024.900000</td>\n",
       "      <td>49576.765000</td>\n",
       "      <td>9999.555000</td>\n",
       "      <td>350.400000</td>\n",
       "      <td>14396.6850</td>\n",
       "      <td>21566.290000</td>\n",
       "      <td>64216.915000</td>\n",
       "    </tr>\n",
       "    <tr>\n",
       "      <th>75%</th>\n",
       "      <td>5366.570000</td>\n",
       "      <td>3559.650000</td>\n",
       "      <td>1895.500000</td>\n",
       "      <td>523.402500</td>\n",
       "      <td>2828.955000</td>\n",
       "      <td>42923.917500</td>\n",
       "      <td>26067.402500</td>\n",
       "      <td>69357.98250</td>\n",
       "      <td>2821.145000</td>\n",
       "      <td>409.600000</td>\n",
       "      <td>...</td>\n",
       "      <td>162.467500</td>\n",
       "      <td>1017.067500</td>\n",
       "      <td>11431.147500</td>\n",
       "      <td>6005.785000</td>\n",
       "      <td>62031.405000</td>\n",
       "      <td>14127.717500</td>\n",
       "      <td>594.000000</td>\n",
       "      <td>22696.6925</td>\n",
       "      <td>25347.530000</td>\n",
       "      <td>91337.602500</td>\n",
       "    </tr>\n",
       "    <tr>\n",
       "      <th>max</th>\n",
       "      <td>13932.490000</td>\n",
       "      <td>4620.940000</td>\n",
       "      <td>7087.550000</td>\n",
       "      <td>901.760000</td>\n",
       "      <td>9561.600000</td>\n",
       "      <td>48848.140000</td>\n",
       "      <td>49253.580000</td>\n",
       "      <td>87884.28000</td>\n",
       "      <td>6315.460000</td>\n",
       "      <td>749.000000</td>\n",
       "      <td>...</td>\n",
       "      <td>183.290000</td>\n",
       "      <td>5863.180000</td>\n",
       "      <td>23160.980000</td>\n",
       "      <td>12410.600000</td>\n",
       "      <td>90019.490000</td>\n",
       "      <td>41350.910000</td>\n",
       "      <td>1811.980000</td>\n",
       "      <td>38486.7600</td>\n",
       "      <td>60978.490000</td>\n",
       "      <td>122011.380000</td>\n",
       "    </tr>\n",
       "  </tbody>\n",
       "</table>\n",
       "<p>8 rows × 71 columns</p>\n",
       "</div>"
      ],
      "text/plain": [
       "product_category_name_english  agro_industry_and_commerce  air_conditioning  \\\n",
       "count                                           19.000000         20.000000   \n",
       "mean                                          3817.393158       2665.893500   \n",
       "std                                           3500.605051       1217.198962   \n",
       "min                                             65.970000        663.700000   \n",
       "25%                                           1285.000000       1996.122500   \n",
       "50%                                           3376.650000       2649.995000   \n",
       "75%                                           5366.570000       3559.650000   \n",
       "max                                          13932.490000       4620.940000   \n",
       "\n",
       "product_category_name_english          art  arts_and_craftmanship  \\\n",
       "count                            17.000000               6.000000   \n",
       "mean                           1423.684706             302.335000   \n",
       "std                            1745.692363             379.175832   \n",
       "min                              75.000000              15.990000   \n",
       "25%                             349.050000              38.942500   \n",
       "50%                             461.500000             109.850000   \n",
       "75%                            1895.500000             523.402500   \n",
       "max                            7087.550000             901.760000   \n",
       "\n",
       "product_category_name_english        audio          auto          baby  \\\n",
       "count                            19.000000     20.000000     20.000000   \n",
       "mean                           2659.553158  29544.343000  20506.736500   \n",
       "std                            2384.015144  14212.534332  12863.337707   \n",
       "min                             163.800000   5126.430000   3363.470000   \n",
       "25%                            1092.735000  15199.655000   9379.565000   \n",
       "50%                            2069.400000  32595.810000  21088.230000   \n",
       "75%                            2828.955000  42923.917500  26067.402500   \n",
       "max                            9561.600000  48848.140000  49253.580000   \n",
       "\n",
       "product_category_name_english  bed_bath_table  books_general_interest  \\\n",
       "count                                20.00000               20.000000   \n",
       "mean                              51818.78500             2336.869000   \n",
       "std                               22235.42273             1633.350693   \n",
       "min                                3780.36000              234.890000   \n",
       "25%                               34792.14250             1188.160000   \n",
       "50%                               56320.26500             1926.365000   \n",
       "75%                               69357.98250             2821.145000   \n",
       "max                               87884.28000             6315.460000   \n",
       "\n",
       "product_category_name_english  books_imported  ...  security_and_services  \\\n",
       "count                               15.000000  ...               2.000000   \n",
       "mean                               309.323333  ...             141.645000   \n",
       "std                                199.153693  ...              58.894924   \n",
       "min                                 19.990000  ...             100.000000   \n",
       "25%                                165.000000  ...             120.822500   \n",
       "50%                                317.990000  ...             141.645000   \n",
       "75%                                409.600000  ...             162.467500   \n",
       "max                                749.000000  ...             183.290000   \n",
       "\n",
       "product_category_name_english  signaling_and_security  small_appliances  \\\n",
       "count                                       18.000000         20.000000   \n",
       "mean                                      1194.957222       9516.934000   \n",
       "std                                       1452.424074       4994.634596   \n",
       "min                                         75.000000       1461.790000   \n",
       "25%                                        461.347500       6001.655000   \n",
       "50%                                        729.895000       9173.030000   \n",
       "75%                                       1017.067500      11431.147500   \n",
       "max                                       5863.180000      23160.980000   \n",
       "\n",
       "product_category_name_english  small_appliances_home_oven_and_coffee  \\\n",
       "count                                                      11.000000   \n",
       "mean                                                     4313.246364   \n",
       "std                                                      4554.416985   \n",
       "min                                                        71.900000   \n",
       "25%                                                       505.490000   \n",
       "50%                                                      3024.900000   \n",
       "75%                                                      6005.785000   \n",
       "max                                                     12410.600000   \n",
       "\n",
       "product_category_name_english  sports_leisure    stationery  \\\n",
       "count                               20.000000     20.000000   \n",
       "mean                             49232.317500  11547.161500   \n",
       "std                              21773.224112   9223.390185   \n",
       "min                               9602.640000   1561.990000   \n",
       "25%                              36016.445000   5941.165000   \n",
       "50%                              49576.765000   9999.555000   \n",
       "75%                              62031.405000  14127.717500   \n",
       "max                              90019.490000  41350.910000   \n",
       "\n",
       "product_category_name_english  tablets_printing_image   telephony  \\\n",
       "count                                       17.000000     20.0000   \n",
       "mean                                       442.847647  16150.4975   \n",
       "std                                        435.165085   9043.2335   \n",
       "min                                         49.900000   2945.8600   \n",
       "25%                                        161.800000   8811.2275   \n",
       "50%                                        350.400000  14396.6850   \n",
       "75%                                        594.000000  22696.6925   \n",
       "max                                       1811.980000  38486.7600   \n",
       "\n",
       "product_category_name_english          toys  watches_gifts  \n",
       "count                             20.000000      20.000000  \n",
       "mean                           23974.075500   60082.272000  \n",
       "std                            14636.240836   32929.231947  \n",
       "min                             4747.100000    8086.520000  \n",
       "25%                            15534.827500   34277.102500  \n",
       "50%                            21566.290000   64216.915000  \n",
       "75%                            25347.530000   91337.602500  \n",
       "max                            60978.490000  122011.380000  \n",
       "\n",
       "[8 rows x 71 columns]"
      ]
     },
     "execution_count": 14,
     "metadata": {},
     "output_type": "execute_result"
    }
   ],
   "source": [
    "df = sales_df\n",
    "df = df.groupby(['product_category_name_english','date']).sum()\n",
    "\n",
    "# converting the table\n",
    "df = df.pivot_table(index='date', columns='product_category_name_english', values='price')\n",
    "\n",
    "# excluindo dados fora do intervalo\n",
    "df = df.drop(df.index[0:3])\n",
    "df = df.drop(df.tail(1).index)\n",
    "\n",
    "df.describe()"
   ]
  },
  {
   "cell_type": "code",
   "execution_count": 34,
   "id": "2463d7f0",
   "metadata": {
    "scrolled": false
   },
   "outputs": [
    {
     "data": {
      "image/png": "[encoded data removed]",
      "text/plain": [
       "<Figure size 864x576 with 2 Axes>"
      ]
     },
     "metadata": {
      "needs_background": "light"
     },
     "output_type": "display_data"
    }
   ],
   "source": [
    "top_categories = ['health_beauty', 'watches_gifts', 'bed_bath_table', 'sports_leisure',\n",
    "       'computers_accessories', 'furniture_decor', 'cool_stuff', 'housewares',\n",
    "       'auto', 'garden_tools']\n",
    "\n",
    "plt.figure(figsize=(12, 8))\n",
    "plt.suptitle(f'Top 10 Categories in Revenue in reais (R$) vs. Time', y=1.05, fontsize=16)\n",
    "\n",
    "plt.subplot(211) \n",
    "for category in top_categories:\n",
    "    plt.plot(df.index, df[category], label=category, linewidth=1)\n",
    "\n",
    "plt.xticks(df.index[::3].tolist())\n",
    "plt.yticks([40000, 80000, 120000, 160000], labels =['40k', '80k', '120k', '160k'])\n",
    "plt.box(False)\n",
    "plt.legend()   \n",
    "\n",
    "plt.subplot(212)\n",
    "for category in top_categories:\n",
    "    if category not in ['health_beauty']:\n",
    "        plt.plot(df.index, df[category],  color='#D1D1D1')\n",
    "    else:\n",
    "        plt.plot(df.index, df[category], label=category, linewidth=4)\n",
    "    \n",
    "    \n",
    "plt.title('Top 10 Categories in Revenue in reais (R$) vs. Time, highlighting health_beauty', fontdict={'fontsize':14})\n",
    "plt.xticks(df.index[::3].tolist())\n",
    "plt.yticks([40000, 80000, 120000, 160000], labels =['40k', '80k', '120k', '160k'])\n",
    "plt.legend()\n",
    "\n",
    "plt.tight_layout()\n",
    "plt.box(False)\n",
    "plt.show()"
   ]
  },
  {
   "cell_type": "markdown",
   "id": "d2252f27",
   "metadata": {},
   "source": [
    "Analising the evolution in time of the top 10 categories, one category `health_beauty` really draws attention. While most product categories growth were very instable, `health_beauty` monthly growth was positive in almost all periods. "
   ]
  },
  {
   "cell_type": "markdown",
   "id": "f70d0ee0",
   "metadata": {},
   "source": [
    "***"
   ]
  },
  {
   "cell_type": "markdown",
   "id": "104cb2c8",
   "metadata": {},
   "source": [
    "## 6. Logistics"
   ]
  },
  {
   "cell_type": "markdown",
   "id": "26b57c93",
   "metadata": {},
   "source": [
    "In this section we will analise the data from deliveries and try to answer the following questions:\n",
    "- What's the percentage of delays?\n",
    "- Is there any relation between the delivery time and revenue from state to state?\n",
    "- Is there any state in which the percentage of delays are higher?\n",
    "- Which part of the delivery process is more responsible for the delays?"
   ]
  },
  {
   "cell_type": "code",
   "execution_count": 7,
   "id": "43fc599c",
   "metadata": {},
   "outputs": [],
   "source": [
    "# order_items -- (product_id) -- products\n",
    "df = order_items.merge(products, on=['product_id'])[['order_id', 'product_category_name', 'price']]\n",
    "\n",
    "df = df.merge(product_category_translation, on=['product_category_name'])\n",
    "df = df[['order_id','product_category_name_english', 'price']]\n",
    "\n",
    "# order_items -- (order_id) -- orders\n",
    "df = df.merge(orders, on=['order_id'])\n",
    "\n",
    "df = df[['product_category_name_english','price', 'order_approved_at', 'order_delivered_carrier_date',\n",
    "         'order_delivered_customer_date', 'order_estimated_delivery_date', 'customer_id']]\n",
    "\n",
    "# # customers -- (customer_id) -- orders\n",
    "df = df.merge(customers, on=['customer_id'])\n",
    "\n",
    "df = df[['product_category_name_english', 'customer_state','price','order_approved_at','order_delivered_carrier_date',\n",
    "         'order_delivered_customer_date', 'order_estimated_delivery_date']]"
   ]
  },
  {
   "cell_type": "code",
   "execution_count": 8,
   "id": "23efc594",
   "metadata": {},
   "outputs": [],
   "source": [
    "import datetime\n",
    "\n",
    "# Converting data to datetime\n",
    "df['order_approved'] = pd.to_datetime(df['order_approved_at'])\n",
    "df['estimated_delivery'] = pd.to_datetime(df['order_estimated_delivery_date'])\n",
    "df['delivery_carrier'] = pd.to_datetime(df['order_delivered_carrier_date'])\n",
    "df['delivery_customer'] = pd.to_datetime(df['order_delivered_customer_date'])\n",
    "\n",
    "# creating columns to calculate the time of each stage of the delivery.\n",
    "df['approved_to_customer'] = df['delivery_customer'] - df['order_approved']\n",
    "df['approved_to_carrier'] = df['delivery_carrier'] - df['order_approved']\n",
    "df['carrier_to_customer'] = df['delivery_customer'] - df['delivery_carrier']\n",
    "df['delivered_vs_estimated'] = df['estimated_delivery'] - df['delivery_customer']"
   ]
  },
  {
   "cell_type": "markdown",
   "id": "49667063",
   "metadata": {},
   "source": [
    "***\n",
    "\n",
    "Order approved -> Order delivered to carrier -> Order delivered to customer\n",
    "***\n",
    "- `approved_to_customer`- time between the approval of the order and the delivery to the customer\n",
    "- `approved_to_carrier` - time between the approval of the order and the delivery to the carrier.\n",
    "- `carrier_to_costumer` - carrier delivery time.    \n",
    "     \n",
    "As: approved_to_customer = approved_to_carrier + carrier_to_customer\n",
    "*** \n",
    "- `delivered_vs_estimated` - compares the estimated time of delivery with the actual delivery time."
   ]
  },
  {
   "cell_type": "code",
   "execution_count": 9,
   "id": "e8aca88d",
   "metadata": {},
   "outputs": [
    {
     "data": {
      "text/html": [
       "<div>\n",
       "<style scoped>\n",
       "    .dataframe tbody tr th:only-of-type {\n",
       "        vertical-align: middle;\n",
       "    }\n",
       "\n",
       "    .dataframe tbody tr th {\n",
       "        vertical-align: top;\n",
       "    }\n",
       "\n",
       "    .dataframe thead th {\n",
       "        text-align: right;\n",
       "    }\n",
       "</style>\n",
       "<table border=\"1\" class=\"dataframe\">\n",
       "  <thead>\n",
       "    <tr style=\"text-align: right;\">\n",
       "      <th></th>\n",
       "      <th>price</th>\n",
       "      <th>approved_to_customer</th>\n",
       "      <th>approved_to_carrier</th>\n",
       "      <th>carrier_to_customer</th>\n",
       "      <th>delivered_vs_estimated</th>\n",
       "    </tr>\n",
       "  </thead>\n",
       "  <tbody>\n",
       "    <tr>\n",
       "      <th>count</th>\n",
       "      <td>111023.000000</td>\n",
       "      <td>108623</td>\n",
       "      <td>109854</td>\n",
       "      <td>108636</td>\n",
       "      <td>108637</td>\n",
       "    </tr>\n",
       "    <tr>\n",
       "      <th>mean</th>\n",
       "      <td>120.755104</td>\n",
       "      <td>12 days 00:43:27.924463511</td>\n",
       "      <td>2 days 20:16:07.478216542</td>\n",
       "      <td>9 days 04:33:43.571790198</td>\n",
       "      <td>11 days 08:12:51.029906937</td>\n",
       "    </tr>\n",
       "    <tr>\n",
       "      <th>std</th>\n",
       "      <td>183.372746</td>\n",
       "      <td>9 days 09:40:38.074450569</td>\n",
       "      <td>3 days 13:37:41.963657841</td>\n",
       "      <td>8 days 14:55:39.297788813</td>\n",
       "      <td>10 days 03:47:30.484079050</td>\n",
       "    </tr>\n",
       "    <tr>\n",
       "      <th>min</th>\n",
       "      <td>0.850000</td>\n",
       "      <td>-7 days +00:14:54</td>\n",
       "      <td>-172 days +18:44:38</td>\n",
       "      <td>-17 days +21:41:31</td>\n",
       "      <td>-189 days +00:35:53</td>\n",
       "    </tr>\n",
       "    <tr>\n",
       "      <th>25%</th>\n",
       "      <td>39.900000</td>\n",
       "      <td>6 days 06:42:48</td>\n",
       "      <td>0 days 21:08:56.250000</td>\n",
       "      <td>4 days 01:30:56.250000</td>\n",
       "      <td>6 days 11:31:09</td>\n",
       "    </tr>\n",
       "    <tr>\n",
       "      <th>50%</th>\n",
       "      <td>74.990000</td>\n",
       "      <td>9 days 18:57:35</td>\n",
       "      <td>1 days 20:01:28.500000</td>\n",
       "      <td>7 days 01:25:26</td>\n",
       "      <td>12 days 01:15:23</td>\n",
       "    </tr>\n",
       "    <tr>\n",
       "      <th>75%</th>\n",
       "      <td>134.900000</td>\n",
       "      <td>15 days 00:53:07</td>\n",
       "      <td>3 days 15:08:09.250000</td>\n",
       "      <td>11 days 21:51:04.750000</td>\n",
       "      <td>16 days 07:48:10</td>\n",
       "    </tr>\n",
       "    <tr>\n",
       "      <th>max</th>\n",
       "      <td>6735.000000</td>\n",
       "      <td>208 days 12:01:24</td>\n",
       "      <td>107 days 01:16:38</td>\n",
       "      <td>205 days 04:35:00</td>\n",
       "      <td>146 days 00:23:13</td>\n",
       "    </tr>\n",
       "  </tbody>\n",
       "</table>\n",
       "</div>"
      ],
      "text/plain": [
       "               price        approved_to_customer        approved_to_carrier  \\\n",
       "count  111023.000000                      108623                     109854   \n",
       "mean      120.755104  12 days 00:43:27.924463511  2 days 20:16:07.478216542   \n",
       "std       183.372746   9 days 09:40:38.074450569  3 days 13:37:41.963657841   \n",
       "min         0.850000           -7 days +00:14:54        -172 days +18:44:38   \n",
       "25%        39.900000             6 days 06:42:48     0 days 21:08:56.250000   \n",
       "50%        74.990000             9 days 18:57:35     1 days 20:01:28.500000   \n",
       "75%       134.900000            15 days 00:53:07     3 days 15:08:09.250000   \n",
       "max      6735.000000           208 days 12:01:24          107 days 01:16:38   \n",
       "\n",
       "             carrier_to_customer      delivered_vs_estimated  \n",
       "count                     108636                      108637  \n",
       "mean   9 days 04:33:43.571790198  11 days 08:12:51.029906937  \n",
       "std    8 days 14:55:39.297788813  10 days 03:47:30.484079050  \n",
       "min           -17 days +21:41:31         -189 days +00:35:53  \n",
       "25%       4 days 01:30:56.250000             6 days 11:31:09  \n",
       "50%              7 days 01:25:26            12 days 01:15:23  \n",
       "75%      11 days 21:51:04.750000            16 days 07:48:10  \n",
       "max            205 days 04:35:00           146 days 00:23:13  "
      ]
     },
     "execution_count": 9,
     "metadata": {},
     "output_type": "execute_result"
    }
   ],
   "source": [
    "df.describe()"
   ]
  },
  {
   "cell_type": "markdown",
   "id": "4bd74719",
   "metadata": {},
   "source": [
    "**We got an inconsistency here:** note that in te `min` row we got some negative values, which don't make sense. Before we go on with the analysis, we have to exclude these values."
   ]
  },
  {
   "cell_type": "code",
   "execution_count": 10,
   "id": "d8ab6434",
   "metadata": {},
   "outputs": [
    {
     "name": "stdout",
     "output_type": "stream",
     "text": [
      "<class 'pandas.core.frame.DataFrame'>\n",
      "Int64Index: 111023 entries, 0 to 111022\n",
      "Data columns (total 15 columns):\n",
      " #   Column                         Non-Null Count   Dtype          \n",
      "---  ------                         --------------   -----          \n",
      " 0   product_category_name_english  111023 non-null  object         \n",
      " 1   customer_state                 111023 non-null  object         \n",
      " 2   price                          111023 non-null  float64        \n",
      " 3   order_approved_at              111009 non-null  object         \n",
      " 4   order_delivered_carrier_date   109868 non-null  object         \n",
      " 5   order_delivered_customer_date  108637 non-null  object         \n",
      " 6   order_estimated_delivery_date  111023 non-null  object         \n",
      " 7   order_approved                 111009 non-null  datetime64[ns] \n",
      " 8   estimated_delivery             111023 non-null  datetime64[ns] \n",
      " 9   delivery_carrier               109868 non-null  datetime64[ns] \n",
      " 10  delivery_customer              108637 non-null  datetime64[ns] \n",
      " 11  approved_to_customer           108623 non-null  timedelta64[ns]\n",
      " 12  approved_to_carrier            109854 non-null  timedelta64[ns]\n",
      " 13  carrier_to_customer            108636 non-null  timedelta64[ns]\n",
      " 14  delivered_vs_estimated         108637 non-null  timedelta64[ns]\n",
      "dtypes: datetime64[ns](4), float64(1), object(6), timedelta64[ns](4)\n",
      "memory usage: 13.6+ MB\n"
     ]
    }
   ],
   "source": [
    "df.info()"
   ]
  },
  {
   "cell_type": "code",
   "execution_count": 30,
   "id": "50067235",
   "metadata": {},
   "outputs": [],
   "source": [
    "# Dropping negative rows\n",
    "df = df.drop(df[df.approved_to_customer < datetime.timedelta(0)].index)\n",
    "df = df.drop(df[df.approved_to_carrier < datetime.timedelta(0)].index)\n",
    "df = df.drop(df[df.carrier_to_customer < datetime.timedelta(0)].index)"
   ]
  },
  {
   "cell_type": "code",
   "execution_count": 31,
   "id": "26fa64f5",
   "metadata": {},
   "outputs": [
    {
     "name": "stdout",
     "output_type": "stream",
     "text": [
      "<class 'pandas.core.frame.DataFrame'>\n",
      "Int64Index: 109433 entries, 0 to 111022\n",
      "Data columns (total 15 columns):\n",
      " #   Column                         Non-Null Count   Dtype          \n",
      "---  ------                         --------------   -----          \n",
      " 0   product_category_name_english  109433 non-null  object         \n",
      " 1   customer_state                 109433 non-null  object         \n",
      " 2   price                          109433 non-null  float64        \n",
      " 3   order_approved_at              109419 non-null  object         \n",
      " 4   order_delivered_carrier_date   108278 non-null  object         \n",
      " 5   order_delivered_customer_date  107055 non-null  object         \n",
      " 6   order_estimated_delivery_date  109433 non-null  object         \n",
      " 7   order_approved                 109419 non-null  datetime64[ns] \n",
      " 8   estimated_delivery             109433 non-null  datetime64[ns] \n",
      " 9   delivery_carrier               108278 non-null  datetime64[ns] \n",
      " 10  delivery_customer              107055 non-null  datetime64[ns] \n",
      " 11  approved_to_customer           107041 non-null  timedelta64[ns]\n",
      " 12  approved_to_carrier            108264 non-null  timedelta64[ns]\n",
      " 13  carrier_to_customer            107054 non-null  timedelta64[ns]\n",
      " 14  delivered_vs_estimated         107055 non-null  timedelta64[ns]\n",
      "dtypes: datetime64[ns](4), float64(1), object(6), timedelta64[ns](4)\n",
      "memory usage: 13.4+ MB\n"
     ]
    }
   ],
   "source": [
    "df.info()"
   ]
  },
  {
   "cell_type": "code",
   "execution_count": 32,
   "id": "fb9337ee",
   "metadata": {},
   "outputs": [
    {
     "data": {
      "text/html": [
       "<div>\n",
       "<style scoped>\n",
       "    .dataframe tbody tr th:only-of-type {\n",
       "        vertical-align: middle;\n",
       "    }\n",
       "\n",
       "    .dataframe tbody tr th {\n",
       "        vertical-align: top;\n",
       "    }\n",
       "\n",
       "    .dataframe thead th {\n",
       "        text-align: right;\n",
       "    }\n",
       "</style>\n",
       "<table border=\"1\" class=\"dataframe\">\n",
       "  <thead>\n",
       "    <tr style=\"text-align: right;\">\n",
       "      <th></th>\n",
       "      <th>price</th>\n",
       "      <th>approved_to_customer</th>\n",
       "      <th>approved_to_carrier</th>\n",
       "      <th>carrier_to_customer</th>\n",
       "      <th>delivered_vs_estimated</th>\n",
       "    </tr>\n",
       "  </thead>\n",
       "  <tbody>\n",
       "    <tr>\n",
       "      <th>count</th>\n",
       "      <td>109433.000000</td>\n",
       "      <td>107041</td>\n",
       "      <td>108264</td>\n",
       "      <td>107054</td>\n",
       "      <td>107055</td>\n",
       "    </tr>\n",
       "    <tr>\n",
       "      <th>mean</th>\n",
       "      <td>120.909194</td>\n",
       "      <td>12 days 02:52:08.522715594</td>\n",
       "      <td>2 days 21:31:37.679708859</td>\n",
       "      <td>9 days 05:26:35.528621069</td>\n",
       "      <td>11 days 06:52:58.843996076</td>\n",
       "    </tr>\n",
       "    <tr>\n",
       "      <th>std</th>\n",
       "      <td>183.728610</td>\n",
       "      <td>9 days 09:57:39.091744409</td>\n",
       "      <td>3 days 12:25:36.999878622</td>\n",
       "      <td>8 days 15:09:58.734512196</td>\n",
       "      <td>10 days 04:07:49.808299769</td>\n",
       "    </tr>\n",
       "    <tr>\n",
       "      <th>min</th>\n",
       "      <td>0.850000</td>\n",
       "      <td>0 days 12:37:32</td>\n",
       "      <td>0 days 00:00:15</td>\n",
       "      <td>0 days 00:00:00</td>\n",
       "      <td>-189 days +00:35:53</td>\n",
       "    </tr>\n",
       "    <tr>\n",
       "      <th>25%</th>\n",
       "      <td>39.900000</td>\n",
       "      <td>6 days 08:35:05</td>\n",
       "      <td>0 days 21:46:07</td>\n",
       "      <td>4 days 01:44:07.250000</td>\n",
       "      <td>6 days 10:28:04</td>\n",
       "    </tr>\n",
       "    <tr>\n",
       "      <th>50%</th>\n",
       "      <td>74.990000</td>\n",
       "      <td>9 days 20:59:16</td>\n",
       "      <td>1 days 20:46:59</td>\n",
       "      <td>7 days 01:38:59.500000</td>\n",
       "      <td>12 days 00:18:09</td>\n",
       "    </tr>\n",
       "    <tr>\n",
       "      <th>75%</th>\n",
       "      <td>134.990000</td>\n",
       "      <td>15 days 02:43:13</td>\n",
       "      <td>3 days 15:59:55.500000</td>\n",
       "      <td>11 days 22:45:43.500000</td>\n",
       "      <td>16 days 07:08:25</td>\n",
       "    </tr>\n",
       "    <tr>\n",
       "      <th>max</th>\n",
       "      <td>6735.000000</td>\n",
       "      <td>208 days 12:01:24</td>\n",
       "      <td>107 days 01:16:38</td>\n",
       "      <td>205 days 04:35:00</td>\n",
       "      <td>146 days 00:23:13</td>\n",
       "    </tr>\n",
       "  </tbody>\n",
       "</table>\n",
       "</div>"
      ],
      "text/plain": [
       "               price        approved_to_customer        approved_to_carrier  \\\n",
       "count  109433.000000                      107041                     108264   \n",
       "mean      120.909194  12 days 02:52:08.522715594  2 days 21:31:37.679708859   \n",
       "std       183.728610   9 days 09:57:39.091744409  3 days 12:25:36.999878622   \n",
       "min         0.850000             0 days 12:37:32            0 days 00:00:15   \n",
       "25%        39.900000             6 days 08:35:05            0 days 21:46:07   \n",
       "50%        74.990000             9 days 20:59:16            1 days 20:46:59   \n",
       "75%       134.990000            15 days 02:43:13     3 days 15:59:55.500000   \n",
       "max      6735.000000           208 days 12:01:24          107 days 01:16:38   \n",
       "\n",
       "             carrier_to_customer      delivered_vs_estimated  \n",
       "count                     107054                      107055  \n",
       "mean   9 days 05:26:35.528621069  11 days 06:52:58.843996076  \n",
       "std    8 days 15:09:58.734512196  10 days 04:07:49.808299769  \n",
       "min              0 days 00:00:00         -189 days +00:35:53  \n",
       "25%       4 days 01:44:07.250000             6 days 10:28:04  \n",
       "50%       7 days 01:38:59.500000            12 days 00:18:09  \n",
       "75%      11 days 22:45:43.500000            16 days 07:08:25  \n",
       "max            205 days 04:35:00           146 days 00:23:13  "
      ]
     },
     "execution_count": 32,
     "metadata": {},
     "output_type": "execute_result"
    }
   ],
   "source": [
    "df.describe()"
   ]
  },
  {
   "cell_type": "markdown",
   "id": "ea0fd2ca",
   "metadata": {},
   "source": [
    "***\n",
    "### 6.1 Relation between Delivery Time and Revenue"
   ]
  },
  {
   "cell_type": "code",
   "execution_count": 33,
   "id": "2b8294ae",
   "metadata": {},
   "outputs": [
    {
     "data": {
      "image/png": "[encoded data removed]",
      "text/plain": [
       "<Figure size 864x576 with 2 Axes>"
      ]
     },
     "metadata": {
      "needs_background": "light"
     },
     "output_type": "display_data"
    }
   ],
   "source": [
    "delivery = df.groupby('customer_state').agg({'price':'sum', \n",
    "                    'approved_to_customer': 'mean'}).sort_values(by=['price'],ascending=False)\n",
    "\n",
    "plt.figure(figsize=(12,8))\n",
    "plt.suptitle(f\"Relation between Average Delivery Time and Revenue\", y=1.05, fontsize=16)\n",
    "\n",
    "plt.subplot(211)\n",
    "plt.bar(delivery.index, delivery['price'])\n",
    "plt.title('Revenue in reais (R$)')\n",
    "plt.yticks([0,1e+6,2e+6,3e+6,4e+6,5e+6], labels=['0', '1M', '2M', '3M', '4M', '5M'])\n",
    "plt.box(False)\n",
    "\n",
    "plt.subplot(212)\n",
    "plt.bar(delivery.index, delivery['approved_to_customer'])\n",
    "plt.title('Average Delivery Time (in days)')\n",
    "plt.yticks([0, 5e+14, 10e+14, 15e+14, 20e+14, 25e+14], labels=['0', '5', '10', '15', '20', '25'])\n",
    "plt.hlines(y = 12e+14,xmin=0, xmax='RR', colors='red', linestyle='dashed', linewidth=2)\n",
    "\n",
    "footnote = f\"The red line represents the average delivery time.\"\n",
    "fig_txt = tw.fill(tw.dedent(footnote.rstrip()), width=150)\n",
    "plt.figtext(0.5, -0.07, fig_txt, horizontalalignment='center', fontsize=12, multialignment=\"left\")\n",
    "\n",
    "plt.tight_layout()\n",
    "plt.box(False)\n",
    "plt.show()"
   ]
  },
  {
   "cell_type": "markdown",
   "id": "0d0b2281",
   "metadata": {},
   "source": [
    "Looking to the graphs above, we can see that in the top revenue states, the delivery time is faster. Especially in Sao Paulo (SP)"
   ]
  },
  {
   "cell_type": "markdown",
   "id": "9d7f1f12",
   "metadata": {},
   "source": [
    "***"
   ]
  },
  {
   "cell_type": "markdown",
   "id": "7a9179ac",
   "metadata": {},
   "source": [
    "### 6.2 Delivery Performance "
   ]
  },
  {
   "cell_type": "code",
   "execution_count": 36,
   "id": "243f828c",
   "metadata": {},
   "outputs": [],
   "source": [
    "# Calculating de percentage of late deliveries\n",
    "delivery = df\n",
    "\n",
    "def no_prazo(days):\n",
    "    if days > datetime.timedelta(0):\n",
    "        return 'Delivered in time'\n",
    "    elif days < datetime.timedelta(0):\n",
    "        return 'Late delivery'\n",
    "    else:\n",
    "        return 'No delivery'\n",
    "\n",
    "delivery['in_time'] = delivery['delivered_vs_estimated'].apply(lambda x: no_prazo(x))\n",
    "delivery['count'] = 1"
   ]
  },
  {
   "cell_type": "code",
   "execution_count": 38,
   "id": "f4ef3c2c",
   "metadata": {},
   "outputs": [
    {
     "data": {
      "text/html": [
       "<div>\n",
       "<style scoped>\n",
       "    .dataframe tbody tr th:only-of-type {\n",
       "        vertical-align: middle;\n",
       "    }\n",
       "\n",
       "    .dataframe tbody tr th {\n",
       "        vertical-align: top;\n",
       "    }\n",
       "\n",
       "    .dataframe thead th {\n",
       "        text-align: right;\n",
       "    }\n",
       "</style>\n",
       "<table border=\"1\" class=\"dataframe\">\n",
       "  <thead>\n",
       "    <tr style=\"text-align: right;\">\n",
       "      <th></th>\n",
       "      <th>price</th>\n",
       "      <th>count</th>\n",
       "      <th>%</th>\n",
       "    </tr>\n",
       "    <tr>\n",
       "      <th>in_time</th>\n",
       "      <th></th>\n",
       "      <th></th>\n",
       "      <th></th>\n",
       "    </tr>\n",
       "  </thead>\n",
       "  <tbody>\n",
       "    <tr>\n",
       "      <th>Delivered in time</th>\n",
       "      <td>11733887.08</td>\n",
       "      <td>98520</td>\n",
       "      <td>90.027688</td>\n",
       "    </tr>\n",
       "    <tr>\n",
       "      <th>Late delivery</th>\n",
       "      <td>1137394.41</td>\n",
       "      <td>8535</td>\n",
       "      <td>7.799293</td>\n",
       "    </tr>\n",
       "    <tr>\n",
       "      <th>No delivery</th>\n",
       "      <td>360174.38</td>\n",
       "      <td>2378</td>\n",
       "      <td>2.173019</td>\n",
       "    </tr>\n",
       "  </tbody>\n",
       "</table>\n",
       "</div>"
      ],
      "text/plain": [
       "                         price  count          %\n",
       "in_time                                         \n",
       "Delivered in time  11733887.08  98520  90.027688\n",
       "Late delivery       1137394.41   8535   7.799293\n",
       "No delivery          360174.38   2378   2.173019"
      ]
     },
     "execution_count": 38,
     "metadata": {},
     "output_type": "execute_result"
    }
   ],
   "source": [
    "delivery_status = delivery.groupby('in_time').sum()\n",
    "\n",
    "delivery_status['%'] = delivery_status['count']*100/len(delivery['count'])\n",
    "delivery_status.head()"
   ]
  },
  {
   "cell_type": "markdown",
   "id": "ef26aee1",
   "metadata": {},
   "source": [
    "In general, 90% of the deliveries were made in time, 7.80% were late and 2.17% of the deliveries were not delivered. "
   ]
  },
  {
   "cell_type": "markdown",
   "id": "3219c41d",
   "metadata": {},
   "source": [
    "***"
   ]
  },
  {
   "cell_type": "markdown",
   "id": "a461b784",
   "metadata": {},
   "source": [
    "### 6.3 Deliveries Performance by State"
   ]
  },
  {
   "cell_type": "code",
   "execution_count": 39,
   "id": "d383412a",
   "metadata": {},
   "outputs": [],
   "source": [
    "delivery_states = delivery.groupby(['customer_state', 'in_time']).sum()\n",
    "delivery_states = delivery_states.pivot_table(index='customer_state', columns='in_time', values='count')"
   ]
  },
  {
   "cell_type": "code",
   "execution_count": 41,
   "id": "ece882ee",
   "metadata": {
    "scrolled": false
   },
   "outputs": [
    {
     "data": {
      "text/html": [
       "<div>\n",
       "<style scoped>\n",
       "    .dataframe tbody tr th:only-of-type {\n",
       "        vertical-align: middle;\n",
       "    }\n",
       "\n",
       "    .dataframe tbody tr th {\n",
       "        vertical-align: top;\n",
       "    }\n",
       "\n",
       "    .dataframe thead th {\n",
       "        text-align: right;\n",
       "    }\n",
       "</style>\n",
       "<table border=\"1\" class=\"dataframe\">\n",
       "  <thead>\n",
       "    <tr style=\"text-align: right;\">\n",
       "      <th>in_time</th>\n",
       "      <th>Delivered in time</th>\n",
       "      <th>Late delivery</th>\n",
       "      <th>No delivery</th>\n",
       "      <th>total</th>\n",
       "      <th>% late</th>\n",
       "      <th>% in time</th>\n",
       "      <th>% no delivery</th>\n",
       "    </tr>\n",
       "    <tr>\n",
       "      <th>customer_state</th>\n",
       "      <th></th>\n",
       "      <th></th>\n",
       "      <th></th>\n",
       "      <th></th>\n",
       "      <th></th>\n",
       "      <th></th>\n",
       "      <th></th>\n",
       "    </tr>\n",
       "  </thead>\n",
       "  <tbody>\n",
       "    <tr>\n",
       "      <th>AC</th>\n",
       "      <td>83</td>\n",
       "      <td>3</td>\n",
       "      <td>1</td>\n",
       "      <td>86</td>\n",
       "      <td>3.488372</td>\n",
       "      <td>96.511628</td>\n",
       "      <td>1.162791</td>\n",
       "    </tr>\n",
       "    <tr>\n",
       "      <th>AL</th>\n",
       "      <td>319</td>\n",
       "      <td>100</td>\n",
       "      <td>17</td>\n",
       "      <td>419</td>\n",
       "      <td>23.866348</td>\n",
       "      <td>76.133652</td>\n",
       "      <td>4.057279</td>\n",
       "    </tr>\n",
       "    <tr>\n",
       "      <th>AM</th>\n",
       "      <td>153</td>\n",
       "      <td>7</td>\n",
       "      <td>2</td>\n",
       "      <td>160</td>\n",
       "      <td>4.375000</td>\n",
       "      <td>95.625000</td>\n",
       "      <td>1.250000</td>\n",
       "    </tr>\n",
       "    <tr>\n",
       "      <th>AP</th>\n",
       "      <td>77</td>\n",
       "      <td>4</td>\n",
       "      <td>1</td>\n",
       "      <td>81</td>\n",
       "      <td>4.938272</td>\n",
       "      <td>95.061728</td>\n",
       "      <td>1.234568</td>\n",
       "    </tr>\n",
       "    <tr>\n",
       "      <th>BA</th>\n",
       "      <td>3082</td>\n",
       "      <td>493</td>\n",
       "      <td>114</td>\n",
       "      <td>3575</td>\n",
       "      <td>13.790210</td>\n",
       "      <td>86.209790</td>\n",
       "      <td>3.188811</td>\n",
       "    </tr>\n",
       "  </tbody>\n",
       "</table>\n",
       "</div>"
      ],
      "text/plain": [
       "in_time         Delivered in time  Late delivery  No delivery  total  \\\n",
       "customer_state                                                         \n",
       "AC                             83              3            1     86   \n",
       "AL                            319            100           17    419   \n",
       "AM                            153              7            2    160   \n",
       "AP                             77              4            1     81   \n",
       "BA                           3082            493          114   3575   \n",
       "\n",
       "in_time            % late  % in time  % no delivery  \n",
       "customer_state                                       \n",
       "AC               3.488372  96.511628       1.162791  \n",
       "AL              23.866348  76.133652       4.057279  \n",
       "AM               4.375000  95.625000       1.250000  \n",
       "AP               4.938272  95.061728       1.234568  \n",
       "BA              13.790210  86.209790       3.188811  "
      ]
     },
     "execution_count": 41,
     "metadata": {},
     "output_type": "execute_result"
    }
   ],
   "source": [
    "delivery_states['total'] = delivery_states['Late delivery'] + delivery_states['Delivered in time'] \n",
    "+ delivery_states['No delivery'] \n",
    "\n",
    "delivery_states['% late'] = delivery_states['Late delivery']*100/delivery_states['total']\n",
    "delivery_states['% in time'] = delivery_states['Delivered in time']*100/delivery_states['total']\n",
    "delivery_states['% no delivery'] = delivery_states['No delivery']*100/delivery_states['total']\n",
    "\n",
    "delivery_states.head()"
   ]
  },
  {
   "cell_type": "markdown",
   "id": "8a03e8a2",
   "metadata": {},
   "source": [
    "***"
   ]
  },
  {
   "cell_type": "markdown",
   "id": "47af3f04",
   "metadata": {},
   "source": [
    "### 6.4 Delivery Performance by Product Category"
   ]
  },
  {
   "cell_type": "code",
   "execution_count": 42,
   "id": "cbfd9d23",
   "metadata": {
    "scrolled": true
   },
   "outputs": [
    {
     "data": {
      "text/html": [
       "<div>\n",
       "<style scoped>\n",
       "    .dataframe tbody tr th:only-of-type {\n",
       "        vertical-align: middle;\n",
       "    }\n",
       "\n",
       "    .dataframe tbody tr th {\n",
       "        vertical-align: top;\n",
       "    }\n",
       "\n",
       "    .dataframe thead th {\n",
       "        text-align: right;\n",
       "    }\n",
       "</style>\n",
       "<table border=\"1\" class=\"dataframe\">\n",
       "  <thead>\n",
       "    <tr style=\"text-align: right;\">\n",
       "      <th>in_time</th>\n",
       "      <th>Delivered in time</th>\n",
       "      <th>Late delivery</th>\n",
       "      <th>No delivery</th>\n",
       "      <th>total</th>\n",
       "      <th>% late</th>\n",
       "      <th>% in time</th>\n",
       "      <th>% no delivery</th>\n",
       "    </tr>\n",
       "    <tr>\n",
       "      <th>product_category_name_english</th>\n",
       "      <th></th>\n",
       "      <th></th>\n",
       "      <th></th>\n",
       "      <th></th>\n",
       "      <th></th>\n",
       "      <th></th>\n",
       "      <th></th>\n",
       "    </tr>\n",
       "  </thead>\n",
       "  <tbody>\n",
       "    <tr>\n",
       "      <th>agro_industry_and_commerce</th>\n",
       "      <td>195.0</td>\n",
       "      <td>9.0</td>\n",
       "      <td>6.0</td>\n",
       "      <td>204.0</td>\n",
       "      <td>4.411765</td>\n",
       "      <td>95.588235</td>\n",
       "      <td>2.941176</td>\n",
       "    </tr>\n",
       "    <tr>\n",
       "      <th>air_conditioning</th>\n",
       "      <td>274.0</td>\n",
       "      <td>11.0</td>\n",
       "      <td>8.0</td>\n",
       "      <td>285.0</td>\n",
       "      <td>3.859649</td>\n",
       "      <td>96.140351</td>\n",
       "      <td>2.807018</td>\n",
       "    </tr>\n",
       "    <tr>\n",
       "      <th>art</th>\n",
       "      <td>179.0</td>\n",
       "      <td>15.0</td>\n",
       "      <td>12.0</td>\n",
       "      <td>194.0</td>\n",
       "      <td>7.731959</td>\n",
       "      <td>92.268041</td>\n",
       "      <td>6.185567</td>\n",
       "    </tr>\n",
       "    <tr>\n",
       "      <th>arts_and_craftmanship</th>\n",
       "      <td>21.0</td>\n",
       "      <td>2.0</td>\n",
       "      <td>NaN</td>\n",
       "      <td>23.0</td>\n",
       "      <td>8.695652</td>\n",
       "      <td>91.304348</td>\n",
       "      <td>NaN</td>\n",
       "    </tr>\n",
       "    <tr>\n",
       "      <th>audio</th>\n",
       "      <td>312.0</td>\n",
       "      <td>46.0</td>\n",
       "      <td>2.0</td>\n",
       "      <td>358.0</td>\n",
       "      <td>12.849162</td>\n",
       "      <td>87.150838</td>\n",
       "      <td>0.558659</td>\n",
       "    </tr>\n",
       "  </tbody>\n",
       "</table>\n",
       "</div>"
      ],
      "text/plain": [
       "in_time                        Delivered in time  Late delivery  No delivery  \\\n",
       "product_category_name_english                                                  \n",
       "agro_industry_and_commerce                 195.0            9.0          6.0   \n",
       "air_conditioning                           274.0           11.0          8.0   \n",
       "art                                        179.0           15.0         12.0   \n",
       "arts_and_craftmanship                       21.0            2.0          NaN   \n",
       "audio                                      312.0           46.0          2.0   \n",
       "\n",
       "in_time                        total     % late  % in time  % no delivery  \n",
       "product_category_name_english                                              \n",
       "agro_industry_and_commerce     204.0   4.411765  95.588235       2.941176  \n",
       "air_conditioning               285.0   3.859649  96.140351       2.807018  \n",
       "art                            194.0   7.731959  92.268041       6.185567  \n",
       "arts_and_craftmanship           23.0   8.695652  91.304348            NaN  \n",
       "audio                          358.0  12.849162  87.150838       0.558659  "
      ]
     },
     "execution_count": 42,
     "metadata": {},
     "output_type": "execute_result"
    }
   ],
   "source": [
    "delivery_cat = delivery.groupby(['product_category_name_english', 'in_time']).sum()\n",
    "delivery_cat = delivery_cat.pivot_table(index='product_category_name_english', columns='in_time', values='count')\n",
    "\n",
    "delivery_cat['total'] = delivery_cat['Late delivery'] + delivery_cat['Delivered in time'] \n",
    "+ delivery_cat['No delivery'] \n",
    "\n",
    "delivery_cat['% late'] = delivery_cat['Late delivery']*100/delivery_cat['total']\n",
    "delivery_cat['% in time'] = delivery_cat['Delivered in time']*100/delivery_cat['total']\n",
    "delivery_cat['% no delivery'] = delivery_cat['No delivery']*100/delivery_cat['total']\n",
    "\n",
    "delivery_cat.head()"
   ]
  },
  {
   "cell_type": "markdown",
   "id": "f2cdbefd",
   "metadata": {},
   "source": [
    "***\n"
   ]
  },
  {
   "cell_type": "markdown",
   "id": "bb834c41",
   "metadata": {},
   "source": [
    "### 6.5 Steps of the delivery process"
   ]
  },
  {
   "cell_type": "code",
   "execution_count": 43,
   "id": "0a907b28",
   "metadata": {},
   "outputs": [
    {
     "data": {
      "image/png": "[encoded data removed]",
      "text/plain": [
       "<Figure size 720x360 with 1 Axes>"
      ]
     },
     "metadata": {
      "needs_background": "light"
     },
     "output_type": "display_data"
    }
   ],
   "source": [
    "delivery = df.groupby('customer_state')[['approved_to_customer','approved_to_carrier',\n",
    "                                        'carrier_to_customer','delivered_vs_estimated' ]].mean()\n",
    "plt.figure(figsize=(10,5))\n",
    "\n",
    "plt.title('Delivery Steps Time in days')\n",
    "plt.yticks([0, 5e+14, 10e+14, 15e+14, 20e+14, 25e+14], labels=['0', '5', '10', '15', '20', '25'])\n",
    "\n",
    "plt.plot(delivery.index, delivery.approved_to_customer, label= 'Approved to customer')\n",
    "plt.plot(delivery.index, delivery.approved_to_carrier, label='Approved to carrier')\n",
    "plt.plot(delivery.index, delivery.carrier_to_customer, label='Carrier to customer')\n",
    "\n",
    "plt.legend()\n",
    "plt.tight_layout()\n",
    "plt.show()"
   ]
  },
  {
   "cell_type": "markdown",
   "id": "20eda1cb",
   "metadata": {},
   "source": [
    "With this graph we can note that the delivery time is not related with the time form order approved to order delivered to carrier (responsability of the seller). \n",
    "\n"
   ]
  },
  {
   "cell_type": "markdown",
   "id": "ba2a1f39",
   "metadata": {},
   "source": [
    "***"
   ]
  }
 ],
 "metadata": {
  "kernelspec": {
   "display_name": "Python 3 (ipykernel)",
   "language": "python",
   "name": "python3"
  },
  "language_info": {
   "codemirror_mode": {
    "name": "ipython",
    "version": 3
   },
   "file_extension": ".py",
   "mimetype": "text/x-python",
   "name": "python",
   "nbconvert_exporter": "python",
   "pygments_lexer": "ipython3",
   "version": "3.10.4"
  }
 },
 "nbformat": 4,
 "nbformat_minor": 5
}
